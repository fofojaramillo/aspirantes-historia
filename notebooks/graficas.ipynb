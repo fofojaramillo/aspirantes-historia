{
 "cells": [
  {
   "cell_type": "code",
   "execution_count": 42,
   "metadata": {},
   "outputs": [],
   "source": [
    "import pandas as pd\n",
    "import numpy as np\n",
    "import matplotlib.pyplot as plt\n",
    "import seaborn as sns\n",
    "\n",
    "%matplotlib inline"
   ]
  },
  {
   "cell_type": "code",
   "execution_count": 45,
   "metadata": {},
   "outputs": [
    {
     "data": {
      "text/html": [
       "<div>\n",
       "<style scoped>\n",
       "    .dataframe tbody tr th:only-of-type {\n",
       "        vertical-align: middle;\n",
       "    }\n",
       "\n",
       "    .dataframe tbody tr th {\n",
       "        vertical-align: top;\n",
       "    }\n",
       "\n",
       "    .dataframe thead th {\n",
       "        text-align: right;\n",
       "    }\n",
       "</style>\n",
       "<table border=\"1\" class=\"dataframe\">\n",
       "  <thead>\n",
       "    <tr style=\"text-align: right;\">\n",
       "      <th></th>\n",
       "      <th>Sexo</th>\n",
       "      <th>Edad</th>\n",
       "      <th>Nacionalidad</th>\n",
       "      <th>Estado Civil</th>\n",
       "      <th>Experiencia</th>\n",
       "      <th>Licenciatura: Institución</th>\n",
       "      <th>Licenciatura: Programa</th>\n",
       "      <th>Licenciatura: Promedio</th>\n",
       "      <th>Licenciatura: Tipo Titulación</th>\n",
       "      <th>Aceptado</th>\n",
       "    </tr>\n",
       "  </thead>\n",
       "  <tbody>\n",
       "    <tr>\n",
       "      <th>0</th>\n",
       "      <td>MUJER</td>\n",
       "      <td>33</td>\n",
       "      <td>True</td>\n",
       "      <td>CASADO(A)</td>\n",
       "      <td>8</td>\n",
       "      <td>UNIVERSIDAD ESTATAL DE SONORA</td>\n",
       "      <td>LIC. EN ADMINISTRACION DE EMPRESAS TURÍSTICAS</td>\n",
       "      <td>97.00</td>\n",
       "      <td>EXAMEN NACIONAL DE CALIDAD (CENEVAL)</td>\n",
       "      <td>True</td>\n",
       "    </tr>\n",
       "    <tr>\n",
       "      <th>1</th>\n",
       "      <td>MUJER</td>\n",
       "      <td>33</td>\n",
       "      <td>True</td>\n",
       "      <td>CASADO(A)</td>\n",
       "      <td>0</td>\n",
       "      <td>UNIVERSIDAD DE SONORA</td>\n",
       "      <td>LIC. EN FÍSICA</td>\n",
       "      <td>93.00</td>\n",
       "      <td>POR PROMEDIO</td>\n",
       "      <td>True</td>\n",
       "    </tr>\n",
       "    <tr>\n",
       "      <th>2</th>\n",
       "      <td>HOMBRE</td>\n",
       "      <td>53</td>\n",
       "      <td>True</td>\n",
       "      <td>DIVORCIADO(A)</td>\n",
       "      <td>27</td>\n",
       "      <td>INSTITUTO TECNOLÓGICO DE CHIHUAHUA</td>\n",
       "      <td>INGENIERÍA ELECTRÓNICA</td>\n",
       "      <td>91.00</td>\n",
       "      <td>POR PROMEDIO</td>\n",
       "      <td>False</td>\n",
       "    </tr>\n",
       "    <tr>\n",
       "      <th>3</th>\n",
       "      <td>HOMBRE</td>\n",
       "      <td>38</td>\n",
       "      <td>True</td>\n",
       "      <td>CASADO(A)</td>\n",
       "      <td>0</td>\n",
       "      <td>UNIVERSIDAD DE SONORA</td>\n",
       "      <td>INGENIERÍA INDUSTRIAL Y DE SISTEMAS</td>\n",
       "      <td>80.70</td>\n",
       "      <td>EXAMEN NACIONAL DE CALIDAD (CENEVAL)</td>\n",
       "      <td>True</td>\n",
       "    </tr>\n",
       "    <tr>\n",
       "      <th>4</th>\n",
       "      <td>HOMBRE</td>\n",
       "      <td>32</td>\n",
       "      <td>True</td>\n",
       "      <td>SOLTERO(A)</td>\n",
       "      <td>2</td>\n",
       "      <td>UNIVERSIDAD DEL VALLE DE MÉXICO</td>\n",
       "      <td>LICENCIATURA EN ADMINISTRACIÓN DE EMPRESAS</td>\n",
       "      <td>90.30</td>\n",
       "      <td>EXAMEN NACIONAL DE CALIDAD (CENEVAL)</td>\n",
       "      <td>True</td>\n",
       "    </tr>\n",
       "    <tr>\n",
       "      <th>...</th>\n",
       "      <td>...</td>\n",
       "      <td>...</td>\n",
       "      <td>...</td>\n",
       "      <td>...</td>\n",
       "      <td>...</td>\n",
       "      <td>...</td>\n",
       "      <td>...</td>\n",
       "      <td>...</td>\n",
       "      <td>...</td>\n",
       "      <td>...</td>\n",
       "    </tr>\n",
       "    <tr>\n",
       "      <th>235</th>\n",
       "      <td>HOMBRE</td>\n",
       "      <td>23</td>\n",
       "      <td>True</td>\n",
       "      <td>SOLTERO(A)</td>\n",
       "      <td>0</td>\n",
       "      <td>INSTITUTO TECNOLÓGICO DE HERMOSILLO</td>\n",
       "      <td>INGENIERÍA MECATRÓNICA</td>\n",
       "      <td>92.16</td>\n",
       "      <td>TRABAJO PROFESIONAL</td>\n",
       "      <td>False</td>\n",
       "    </tr>\n",
       "    <tr>\n",
       "      <th>236</th>\n",
       "      <td>HOMBRE</td>\n",
       "      <td>24</td>\n",
       "      <td>True</td>\n",
       "      <td>SOLTERO(A)</td>\n",
       "      <td>0</td>\n",
       "      <td>UNIVERSIDAD DE SONORA</td>\n",
       "      <td>LICENCIATURA EN FÍSICA</td>\n",
       "      <td>90.00</td>\n",
       "      <td>POR PROMEDIO</td>\n",
       "      <td>True</td>\n",
       "    </tr>\n",
       "    <tr>\n",
       "      <th>237</th>\n",
       "      <td>HOMBRE</td>\n",
       "      <td>28</td>\n",
       "      <td>True</td>\n",
       "      <td>SOLTERO(A)</td>\n",
       "      <td>5</td>\n",
       "      <td>UNISON</td>\n",
       "      <td>LICENCIATURA EN MATEMATICAS</td>\n",
       "      <td>89.70</td>\n",
       "      <td>TESIS PROFESIONAL</td>\n",
       "      <td>False</td>\n",
       "    </tr>\n",
       "    <tr>\n",
       "      <th>238</th>\n",
       "      <td>HOMBRE</td>\n",
       "      <td>28</td>\n",
       "      <td>True</td>\n",
       "      <td>SOLTERO(A)</td>\n",
       "      <td>0</td>\n",
       "      <td>UNISON</td>\n",
       "      <td>LICENCIATURA EN CIENCIAS DE LA COMPUTACIÓN</td>\n",
       "      <td>87.74</td>\n",
       "      <td>POR PROMEDIO</td>\n",
       "      <td>False</td>\n",
       "    </tr>\n",
       "    <tr>\n",
       "      <th>239</th>\n",
       "      <td>HOMBRE</td>\n",
       "      <td>23</td>\n",
       "      <td>True</td>\n",
       "      <td>SOLTERO(A)</td>\n",
       "      <td>0</td>\n",
       "      <td>UNISON</td>\n",
       "      <td>LIC. CIENCIAS DE LA COMPUTACIÓN</td>\n",
       "      <td>91.71</td>\n",
       "      <td>POR PROMEDIO</td>\n",
       "      <td>False</td>\n",
       "    </tr>\n",
       "  </tbody>\n",
       "</table>\n",
       "<p>240 rows × 10 columns</p>\n",
       "</div>"
      ],
      "text/plain": [
       "       Sexo  Edad  Nacionalidad   Estado Civil  Experiencia  \\\n",
       "0     MUJER    33          True      CASADO(A)            8   \n",
       "1     MUJER    33          True      CASADO(A)            0   \n",
       "2    HOMBRE    53          True  DIVORCIADO(A)           27   \n",
       "3    HOMBRE    38          True      CASADO(A)            0   \n",
       "4    HOMBRE    32          True     SOLTERO(A)            2   \n",
       "..      ...   ...           ...            ...          ...   \n",
       "235  HOMBRE    23          True     SOLTERO(A)            0   \n",
       "236  HOMBRE    24          True     SOLTERO(A)            0   \n",
       "237  HOMBRE    28          True     SOLTERO(A)            5   \n",
       "238  HOMBRE    28          True     SOLTERO(A)            0   \n",
       "239  HOMBRE    23          True     SOLTERO(A)            0   \n",
       "\n",
       "               Licenciatura: Institución  \\\n",
       "0          UNIVERSIDAD ESTATAL DE SONORA   \n",
       "1                  UNIVERSIDAD DE SONORA   \n",
       "2     INSTITUTO TECNOLÓGICO DE CHIHUAHUA   \n",
       "3                  UNIVERSIDAD DE SONORA   \n",
       "4        UNIVERSIDAD DEL VALLE DE MÉXICO   \n",
       "..                                   ...   \n",
       "235  INSTITUTO TECNOLÓGICO DE HERMOSILLO   \n",
       "236                UNIVERSIDAD DE SONORA   \n",
       "237                               UNISON   \n",
       "238                               UNISON   \n",
       "239                               UNISON   \n",
       "\n",
       "                            Licenciatura: Programa  Licenciatura: Promedio  \\\n",
       "0    LIC. EN ADMINISTRACION DE EMPRESAS TURÍSTICAS                   97.00   \n",
       "1                                   LIC. EN FÍSICA                   93.00   \n",
       "2                           INGENIERÍA ELECTRÓNICA                   91.00   \n",
       "3             INGENIERÍA INDUSTRIAL Y DE SISTEMAS                    80.70   \n",
       "4       LICENCIATURA EN ADMINISTRACIÓN DE EMPRESAS                   90.30   \n",
       "..                                             ...                     ...   \n",
       "235                         INGENIERÍA MECATRÓNICA                   92.16   \n",
       "236                         LICENCIATURA EN FÍSICA                   90.00   \n",
       "237                    LICENCIATURA EN MATEMATICAS                   89.70   \n",
       "238     LICENCIATURA EN CIENCIAS DE LA COMPUTACIÓN                   87.74   \n",
       "239                LIC. CIENCIAS DE LA COMPUTACIÓN                   91.71   \n",
       "\n",
       "            Licenciatura: Tipo Titulación  Aceptado  \n",
       "0    EXAMEN NACIONAL DE CALIDAD (CENEVAL)      True  \n",
       "1                            POR PROMEDIO      True  \n",
       "2                            POR PROMEDIO     False  \n",
       "3    EXAMEN NACIONAL DE CALIDAD (CENEVAL)      True  \n",
       "4    EXAMEN NACIONAL DE CALIDAD (CENEVAL)      True  \n",
       "..                                    ...       ...  \n",
       "235                   TRABAJO PROFESIONAL     False  \n",
       "236                          POR PROMEDIO      True  \n",
       "237                     TESIS PROFESIONAL     False  \n",
       "238                          POR PROMEDIO     False  \n",
       "239                          POR PROMEDIO     False  \n",
       "\n",
       "[240 rows x 10 columns]"
      ]
     },
     "execution_count": 45,
     "metadata": {},
     "output_type": "execute_result"
    }
   ],
   "source": [
    "aspirantes_mcd = pd.read_excel('aspirantes-mcd_tidy.xlsx')\n",
    "aspirantes_mcd"
   ]
  },
  {
   "cell_type": "code",
   "execution_count": 46,
   "metadata": {},
   "outputs": [],
   "source": [
    "df = aspirantes_mcd[['Nacionalidad', 'Aceptado']]"
   ]
  },
  {
   "cell_type": "code",
   "execution_count": 47,
   "metadata": {},
   "outputs": [
    {
     "data": {
      "text/plain": [
       "Nacionalidad  Aceptado\n",
       "True          False       164\n",
       "              True         52\n",
       "Name: count, dtype: int64"
      ]
     },
     "execution_count": 47,
     "metadata": {},
     "output_type": "execute_result"
    }
   ],
   "source": [
    "num_mexicanos = df[df['Nacionalidad'] == True].value_counts()\n",
    "num_extranjeros = df[df['Nacionalidad'] == False].value_counts()\n",
    "\n",
    "num_mexicanos"
   ]
  },
  {
   "cell_type": "code",
   "execution_count": 48,
   "metadata": {},
   "outputs": [
    {
     "data": {
      "image/png": "[encoded data removed]",
      "text/plain": [
       "<Figure size 800x600 with 2 Axes>"
      ]
     },
     "metadata": {},
     "output_type": "display_data"
    }
   ],
   "source": [
    "fig, axes = plt.subplots(nrows=2, ncols=1, figsize=(8, 6))\n",
    "\n",
    "# Gráfica para nacionales\n",
    "axes[0].bar(['No Aceptados', 'Aceptados'], num_mexicanos.values, color=['red', 'green'])\n",
    "axes[0].set_title('Aspirantes Nacionales')\n",
    "axes[0].set_ylabel('Número de aspirantes')\n",
    "\n",
    "# Gráfica para extranjeros\n",
    "axes[1].bar(['No Aceptados', 'Aceptados'], num_extranjeros.values, color=['red', 'green'])\n",
    "axes[1].set_title('Aspirantes Extranjeros')\n",
    "axes[1].set_ylabel('Número de aspirantes')\n",
    "\n",
    "plt.tight_layout()\n",
    "plt.savefig('..\\\\graficas\\\\aspirantes-nacionales-extranjeros')\n",
    "plt.show()"
   ]
  },
  {
   "cell_type": "code",
   "execution_count": 49,
   "metadata": {},
   "outputs": [],
   "source": [
    "# Gráfico de Cajas y Bigotes con: Edad de aspirantes y aceptados.\n",
    "# Gráfico de Cajas y Bigotes con: Promedio de licenciatura de aspirantes y aceptados.\n",
    "# Gráfico de Cajas y Bigotes con: Experiencia de aspirantes y aceptados."
   ]
  },
  {
   "cell_type": "code",
   "execution_count": 114,
   "metadata": {},
   "outputs": [
    {
     "name": "stdout",
     "output_type": "stream",
     "text": [
      "(240, 4)\n"
     ]
    },
    {
     "data": {
      "text/html": [
       "<div>\n",
       "<style scoped>\n",
       "    .dataframe tbody tr th:only-of-type {\n",
       "        vertical-align: middle;\n",
       "    }\n",
       "\n",
       "    .dataframe tbody tr th {\n",
       "        vertical-align: top;\n",
       "    }\n",
       "\n",
       "    .dataframe thead th {\n",
       "        text-align: right;\n",
       "    }\n",
       "</style>\n",
       "<table border=\"1\" class=\"dataframe\">\n",
       "  <thead>\n",
       "    <tr style=\"text-align: right;\">\n",
       "      <th></th>\n",
       "      <th>Edad</th>\n",
       "      <th>Experiencia</th>\n",
       "      <th>Licenciatura: Promedio</th>\n",
       "      <th>Aceptado</th>\n",
       "    </tr>\n",
       "  </thead>\n",
       "  <tbody>\n",
       "    <tr>\n",
       "      <th>0</th>\n",
       "      <td>33</td>\n",
       "      <td>8</td>\n",
       "      <td>97.0</td>\n",
       "      <td>True</td>\n",
       "    </tr>\n",
       "    <tr>\n",
       "      <th>1</th>\n",
       "      <td>33</td>\n",
       "      <td>0</td>\n",
       "      <td>93.0</td>\n",
       "      <td>True</td>\n",
       "    </tr>\n",
       "    <tr>\n",
       "      <th>2</th>\n",
       "      <td>53</td>\n",
       "      <td>27</td>\n",
       "      <td>91.0</td>\n",
       "      <td>False</td>\n",
       "    </tr>\n",
       "    <tr>\n",
       "      <th>3</th>\n",
       "      <td>38</td>\n",
       "      <td>0</td>\n",
       "      <td>80.7</td>\n",
       "      <td>True</td>\n",
       "    </tr>\n",
       "    <tr>\n",
       "      <th>4</th>\n",
       "      <td>32</td>\n",
       "      <td>2</td>\n",
       "      <td>90.3</td>\n",
       "      <td>True</td>\n",
       "    </tr>\n",
       "  </tbody>\n",
       "</table>\n",
       "</div>"
      ],
      "text/plain": [
       "   Edad  Experiencia  Licenciatura: Promedio  Aceptado\n",
       "0    33            8                    97.0      True\n",
       "1    33            0                    93.0      True\n",
       "2    53           27                    91.0     False\n",
       "3    38            0                    80.7      True\n",
       "4    32            2                    90.3      True"
      ]
     },
     "execution_count": 114,
     "metadata": {},
     "output_type": "execute_result"
    }
   ],
   "source": [
    "df_boxplot = aspirantes_mcd[[\"Edad\", \"Experiencia\", \"Licenciatura: Promedio\", \"Aceptado\"]].reset_index(drop = True)\n",
    "print(df_boxplot.shape)\n",
    "df_boxplot.head()\n"
   ]
  },
  {
   "cell_type": "code",
   "execution_count": 115,
   "metadata": {},
   "outputs": [
    {
     "name": "stdout",
     "output_type": "stream",
     "text": [
      "(55, 4)\n"
     ]
    },
    {
     "data": {
      "text/html": [
       "<div>\n",
       "<style scoped>\n",
       "    .dataframe tbody tr th:only-of-type {\n",
       "        vertical-align: middle;\n",
       "    }\n",
       "\n",
       "    .dataframe tbody tr th {\n",
       "        vertical-align: top;\n",
       "    }\n",
       "\n",
       "    .dataframe thead th {\n",
       "        text-align: right;\n",
       "    }\n",
       "</style>\n",
       "<table border=\"1\" class=\"dataframe\">\n",
       "  <thead>\n",
       "    <tr style=\"text-align: right;\">\n",
       "      <th></th>\n",
       "      <th>Edad</th>\n",
       "      <th>Experiencia</th>\n",
       "      <th>Licenciatura: Promedio</th>\n",
       "      <th>Aceptado</th>\n",
       "    </tr>\n",
       "  </thead>\n",
       "  <tbody>\n",
       "    <tr>\n",
       "      <th>0</th>\n",
       "      <td>33</td>\n",
       "      <td>8</td>\n",
       "      <td>97.0</td>\n",
       "      <td>True</td>\n",
       "    </tr>\n",
       "    <tr>\n",
       "      <th>1</th>\n",
       "      <td>33</td>\n",
       "      <td>0</td>\n",
       "      <td>93.0</td>\n",
       "      <td>True</td>\n",
       "    </tr>\n",
       "    <tr>\n",
       "      <th>3</th>\n",
       "      <td>38</td>\n",
       "      <td>0</td>\n",
       "      <td>80.7</td>\n",
       "      <td>True</td>\n",
       "    </tr>\n",
       "    <tr>\n",
       "      <th>4</th>\n",
       "      <td>32</td>\n",
       "      <td>2</td>\n",
       "      <td>90.3</td>\n",
       "      <td>True</td>\n",
       "    </tr>\n",
       "    <tr>\n",
       "      <th>5</th>\n",
       "      <td>26</td>\n",
       "      <td>0</td>\n",
       "      <td>97.8</td>\n",
       "      <td>True</td>\n",
       "    </tr>\n",
       "  </tbody>\n",
       "</table>\n",
       "</div>"
      ],
      "text/plain": [
       "   Edad  Experiencia  Licenciatura: Promedio  Aceptado\n",
       "0    33            8                    97.0      True\n",
       "1    33            0                    93.0      True\n",
       "3    38            0                    80.7      True\n",
       "4    32            2                    90.3      True\n",
       "5    26            0                    97.8      True"
      ]
     },
     "execution_count": 115,
     "metadata": {},
     "output_type": "execute_result"
    }
   ],
   "source": [
    "df_boxplot_aceptados = df_boxplot.loc[df_boxplot[\"Aceptado\"] == True]\n",
    "print(df_boxplot_aceptados.shape)\n",
    "df_boxplot_aceptados.head()"
   ]
  },
  {
   "cell_type": "code",
   "execution_count": 123,
   "metadata": {},
   "outputs": [
    {
     "data": {
      "image/png": "[encoded data removed]",
      "text/plain": [
       "<Figure size 640x480 with 1 Axes>"
      ]
     },
     "metadata": {},
     "output_type": "display_data"
    }
   ],
   "source": [
    "# Boxplot según edades...\n",
    "sns.boxplot(data = [df_boxplot[\"Edad\"], df_boxplot_aceptados[\"Edad\"]], palette=['lightblue', 'lightgreen'])\n",
    "plt.title(\"Según edades.\")\n",
    "plt.xticks([0, 1], [\"Aspirantes\", \"Aceptados\"])\n",
    "plt.show()"
   ]
  },
  {
   "cell_type": "code",
   "execution_count": 122,
   "metadata": {},
   "outputs": [
    {
     "data": {
      "image/png": "[encoded data removed]",
      "text/plain": [
       "<Figure size 640x480 with 1 Axes>"
      ]
     },
     "metadata": {},
     "output_type": "display_data"
    }
   ],
   "source": [
    "# Boxplot según años de experiencia...\n",
    "sns.boxplot(data = [df_boxplot[\"Experiencia\"], df_boxplot_aceptados[\"Experiencia\"]], palette=['lightblue', 'lightgreen'])\n",
    "plt.title('Según años de experiencia.')\n",
    "plt.xticks([0, 1], [\"Aspirantes\", \"Aceptados\"])\n",
    "plt.show()"
   ]
  },
  {
   "cell_type": "code",
   "execution_count": 124,
   "metadata": {},
   "outputs": [
    {
     "data": {
      "image/png": "[encoded data removed]",
      "text/plain": [
       "<Figure size 640x480 with 1 Axes>"
      ]
     },
     "metadata": {},
     "output_type": "display_data"
    }
   ],
   "source": [
    "# Boxplot según Promedios...\n",
    "sns.boxplot(data = [df_boxplot[\"Licenciatura: Promedio\"], df_boxplot_aceptados[\"Licenciatura: Promedio\"]], palette=['lightblue', 'lightgreen'])\n",
    "plt.title('Según años de experiencia.')\n",
    "plt.xticks([0, 1], [\"Aspirantes\", \"Aceptados\"])\n",
    "plt.show()"
   ]
  }
 ],
 "metadata": {
  "kernelspec": {
   "display_name": "Python 3",
   "language": "python",
   "name": "python3"
  },
  "language_info": {
   "codemirror_mode": {
    "name": "ipython",
    "version": 3
   },
   "file_extension": ".py",
   "mimetype": "text/x-python",
   "name": "python",
   "nbconvert_exporter": "python",
   "pygments_lexer": "ipython3",
   "version": "3.11.3"
  }
 },
 "nbformat": 4,
 "nbformat_minor": 2
}
